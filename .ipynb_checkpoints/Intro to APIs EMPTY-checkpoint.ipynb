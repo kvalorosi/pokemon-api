{
 "cells": [
  {
   "cell_type": "markdown",
   "id": "7196054f",
   "metadata": {},
   "source": [
    "# Working with APIs"
   ]
  },
  {
   "cell_type": "markdown",
   "id": "0547b71e",
   "metadata": {},
   "source": [
    "API stands for Application programming interface<br>\n",
    "APIs are a way for applications to talk to eachother<br>\n",
    "In python we use the requests package to handle the connection<br>\n",
    "<small><strong>Note: It is requests with an s not request(this is a different package)</strong></small><br>\n",
    "Most API's communicate with data in the form of JSON<br>\n",
    "JSON stands for JavaScript Object Notation"
   ]
  },
  {
   "cell_type": "code",
   "execution_count": 7,
   "id": "4db9d154",
   "metadata": {},
   "outputs": [],
   "source": [
    "#import the packages we need:\n",
    "import requests, json"
   ]
  },
  {
   "cell_type": "markdown",
   "id": "e8c2ce51",
   "metadata": {},
   "source": [
    "We will be connecting to the Ergast F1 Racer API today:\n",
    "http://ergast.com/mrd/\n",
    "\n",
    "to view JSON data nicely in the Chrome browser install the extension JSONview"
   ]
  },
  {
   "cell_type": "code",
   "execution_count": 8,
   "id": "52c440c6",
   "metadata": {},
   "outputs": [
    {
     "name": "stdout",
     "output_type": "stream",
     "text": [
      "Help on package requests:\n",
      "\n",
      "NAME\n",
      "    requests\n",
      "\n",
      "DESCRIPTION\n",
      "    Requests HTTP Library\n",
      "    ~~~~~~~~~~~~~~~~~~~~~\n",
      "    \n",
      "    Requests is an HTTP library, written in Python, for human beings.\n",
      "    Basic GET usage:\n",
      "    \n",
      "       >>> import requests\n",
      "       >>> r = requests.get('https://www.python.org')\n",
      "       >>> r.status_code\n",
      "       200\n",
      "       >>> b'Python is a programming language' in r.content\n",
      "       True\n",
      "    \n",
      "    ... or POST:\n",
      "    \n",
      "       >>> payload = dict(key1='value1', key2='value2')\n",
      "       >>> r = requests.post('https://httpbin.org/post', data=payload)\n",
      "       >>> print(r.text)\n",
      "       {\n",
      "         ...\n",
      "         \"form\": {\n",
      "           \"key1\": \"value1\",\n",
      "           \"key2\": \"value2\"\n",
      "         },\n",
      "         ...\n",
      "       }\n",
      "    \n",
      "    The other HTTP methods are supported - see `requests.api`. Full documentation\n",
      "    is at <https://requests.readthedocs.io>.\n",
      "    \n",
      "    :copyright: (c) 2017 by Kenneth Reitz.\n",
      "    :license: Apache 2.0, see LICENSE for more details.\n",
      "\n",
      "PACKAGE CONTENTS\n",
      "    __version__\n",
      "    _internal_utils\n",
      "    adapters\n",
      "    api\n",
      "    auth\n",
      "    certs\n",
      "    compat\n",
      "    cookies\n",
      "    exceptions\n",
      "    help\n",
      "    hooks\n",
      "    models\n",
      "    packages\n",
      "    sessions\n",
      "    status_codes\n",
      "    structures\n",
      "    utils\n",
      "\n",
      "FUNCTIONS\n",
      "    check_compatibility(urllib3_version, chardet_version, charset_normalizer_version)\n",
      "\n",
      "DATA\n",
      "    __author_email__ = 'me@kennethreitz.org'\n",
      "    __build__ = 141313\n",
      "    __cake__ = '✨ 🍰 ✨'\n",
      "    __copyright__ = 'Copyright 2022 Kenneth Reitz'\n",
      "    __description__ = 'Python HTTP for Humans.'\n",
      "    __license__ = 'Apache 2.0'\n",
      "    __title__ = 'requests'\n",
      "    __url__ = 'https://requests.readthedocs.io'\n",
      "    chardet_version = '4.0.0'\n",
      "    charset_normalizer_version = '2.0.4'\n",
      "    codes = <lookup 'status_codes'>\n",
      "\n",
      "VERSION\n",
      "    2.28.1\n",
      "\n",
      "AUTHOR\n",
      "    Kenneth Reitz\n",
      "\n",
      "FILE\n",
      "    /Applications/anaconda3/lib/python3.10/site-packages/requests/__init__.py\n",
      "\n",
      "\n"
     ]
    }
   ],
   "source": [
    "help(requests)\n"
   ]
  },
  {
   "cell_type": "code",
   "execution_count": 9,
   "id": "f60c1b4a",
   "metadata": {},
   "outputs": [],
   "source": [
    "url = 'https://ergast.com/api/f1/2008/5/results.json'"
   ]
  },
  {
   "cell_type": "code",
   "execution_count": 10,
   "id": "7b63a204",
   "metadata": {},
   "outputs": [
    {
     "name": "stdout",
     "output_type": "stream",
     "text": [
      "<Response [200]>\n",
      "<class 'requests.models.Response'>\n"
     ]
    },
    {
     "data": {
      "text/plain": [
       "True"
      ]
     },
     "execution_count": 10,
     "metadata": {},
     "output_type": "execute_result"
    }
   ],
   "source": [
    "#response object\n",
    "response = requests.get(url)\n",
    "print(response)\n",
    "print(type(response))\n",
    "response.ok"
   ]
  },
  {
   "cell_type": "code",
   "execution_count": 11,
   "id": "c6d1fdaf",
   "metadata": {},
   "outputs": [
    {
     "data": {
      "text/plain": [
       "True"
      ]
     },
     "execution_count": 11,
     "metadata": {},
     "output_type": "execute_result"
    }
   ],
   "source": [
    "#check and make sure we got a successful response from the API\n",
    "response.ok"
   ]
  },
  {
   "cell_type": "code",
   "execution_count": 12,
   "id": "ed4d3256",
   "metadata": {},
   "outputs": [
    {
     "data": {
      "text/plain": [
       "<bound method Response.json of <Response [200]>>"
      ]
     },
     "execution_count": 12,
     "metadata": {},
     "output_type": "execute_result"
    }
   ],
   "source": [
    "#view the response as a JSON\n",
    "response.json"
   ]
  },
  {
   "cell_type": "code",
   "execution_count": 17,
   "id": "92e6cd2c",
   "metadata": {},
   "outputs": [
    {
     "name": "stdout",
     "output_type": "stream",
     "text": [
      "<class 'dict'>\n"
     ]
    }
   ],
   "source": [
    "print(type(response.json()))"
   ]
  },
  {
   "cell_type": "code",
   "execution_count": 25,
   "id": "f074dfcf",
   "metadata": {},
   "outputs": [
    {
     "name": "stdout",
     "output_type": "stream",
     "text": [
      "{'driverId': 'alonso', 'permanentNumber': '14', 'code': 'ALO', 'url': 'http://en.wikipedia.org/wiki/Fernando_Alonso', 'givenName': 'Fernando', 'familyName': 'Alonso', 'dateOfBirth': '1981-07-29', 'nationality': 'Spanish'}\n",
      "{'f_name': 'Fernando', 'l_name': 'Alonso', 'nation': 'Spanish'}\n"
     ]
    }
   ],
   "source": [
    "d_name = 'alonso'\n",
    "\n",
    "response = requests.get(f\"https://ergast.com/api/f1/drivers/{d_name}.json\")\n",
    "if response.ok:\n",
    "    data = response.json()\n",
    "    print(data['MRData']['DriverTable']['Drivers'][0])\n",
    "    driver = {}\n",
    "    driver['f_name'] = data['MRData']['DriverTable']['Drivers'][0]['givenName']\n",
    "    driver['l_name'] = data['MRData']['DriverTable']['Drivers'][0]['familyName']\n",
    "    driver['nation'] = data['MRData']['DriverTable']['Drivers'][0]['nationality']\n",
    "    print(driver)"
   ]
  },
  {
   "cell_type": "code",
   "execution_count": 28,
   "id": "db69632d",
   "metadata": {},
   "outputs": [
    {
     "name": "stdout",
     "output_type": "stream",
     "text": [
      "at position 1, driver- massa for ferrari\n",
      "at position 2, driver- hamilton for mclaren\n",
      "at position 3, driver- raikkonen for ferrari\n",
      "at position 4, driver- kubica for bmw_sauber\n",
      "at position 5, driver- heidfeld for bmw_sauber\n",
      "at position 6, driver- alonso for renault\n",
      "at position 7, driver- webber for red_bull\n",
      "at position 8, driver- rosberg for williams\n",
      "at position 9, driver- coulthard for red_bull\n",
      "at position 10, driver- trulli for toyota\n",
      "at position 11, driver- button for honda\n",
      "at position 12, driver- kovalainen for mclaren\n",
      "at position 13, driver- glock for toyota\n",
      "at position 14, driver- barrichello for honda\n",
      "at position 15, driver- piquet_jr for renault\n",
      "at position 16, driver- sutil for force_india\n",
      "at position 17, driver- vettel for toro_rosso\n",
      "at position 18, driver- bourdais for toro_rosso\n",
      "at position 19, driver- nakajima for williams\n",
      "at position 20, driver- fisichella for force_india\n"
     ]
    }
   ],
   "source": [
    "# We only want the Driver Standings\n",
    "url = 'https://ergast.com/api/f1/2008/5/results.json'\n",
    "\n",
    "def d_stand(year, round):\n",
    "    response = requests.get(f'https://ergast.com/api/f1/{year}/{round}/results.json')\n",
    "    if response.ok:\n",
    "        data = response.json()\n",
    "        res = data['MRData']['RaceTable']['Races'][0]['Results']\n",
    "        for r in res:\n",
    "            print(f\"at position {r['position']}, driver- {r['Driver']['driverId']} for {r['Constructor']['constructorId']}\")\n",
    "        \n",
    "d_stand(2008, 5)"
   ]
  },
  {
   "cell_type": "code",
   "execution_count": 29,
   "id": "be46a950",
   "metadata": {},
   "outputs": [],
   "source": [
    "import requests, json\n"
   ]
  },
  {
   "cell_type": "code",
   "execution_count": 30,
   "id": "3740c752",
   "metadata": {},
   "outputs": [
    {
     "name": "stdout",
     "output_type": "stream",
     "text": [
      "<Response [200]>\n",
      "<class 'requests.models.Response'>\n"
     ]
    },
    {
     "data": {
      "text/plain": [
       "True"
      ]
     },
     "execution_count": 30,
     "metadata": {},
     "output_type": "execute_result"
    }
   ],
   "source": [
    "url = 'https://pokeapi.co/api/v2/pokemon/charmander'\n",
    "\n",
    "response = requests.get(url)\n",
    "print(response)\n",
    "print(type(response))\n",
    "response.ok"
   ]
  },
  {
   "cell_type": "markdown",
   "id": "6d546014",
   "metadata": {},
   "source": [
    "# <strong>Homework</strong>\n",
    "check out this Pokemon API https://pokeapi.co/\n",
    "Use the requests package to connect to this API and get and store data for 5 different pokemon.\n",
    "Get the pokemons: name, atleast one ability's name, base_experience, and the URL for its sprite (an image that shows up on screen) for the 'front_shiny', attack base_state, hp base_stat, defense base_stat"
   ]
  },
  {
   "cell_type": "code",
   "execution_count": 149,
   "id": "5a9081e3",
   "metadata": {},
   "outputs": [
    {
     "name": "stdout",
     "output_type": "stream",
     "text": [
      "{'name': 'pikachu', 'base_experience': 112, 'sprite_im': 'https://raw.githubusercontent.com/PokeAPI/sprites/master/sprites/pokemon/shiny/25.png'}\n",
      "{'name': 'mew', 'base_experience': 300, 'sprite_im': 'https://raw.githubusercontent.com/PokeAPI/sprites/master/sprites/pokemon/shiny/151.png'}\n",
      "{'name': 'koffing', 'base_experience': 68, 'sprite_im': 'https://raw.githubusercontent.com/PokeAPI/sprites/master/sprites/pokemon/shiny/109.png'}\n"
     ]
    }
   ],
   "source": [
    "import requests\n",
    "\n",
    "p_name = ['pikachu','mew','koffing']\n",
    "pokemon_data = []\n",
    "\n",
    "for name in p_name:\n",
    "    response = requests.get(f\"https://pokeapi.co/api/v2/pokemon/{name}\")\n",
    "    if response.ok:\n",
    "        data = response.json()\n",
    "#       print(data['forms'])\n",
    "        pokemon = {}\n",
    "        pokemon['name'] = data['name']\n",
    "#       pokemon['ab_name'] = data['abilities']['ability']['static']\n",
    "        pokemon['base_experience'] = data['base_experience']\n",
    "        pokemon['sprite_im'] = data['sprites']['front_shiny']\n",
    "        pokemon_data.append(pokemon)\n",
    "    \n",
    "for pokemon in pokemon_data:\n",
    "    print(pokemon)\n",
    "\n",
    "#    def poke_func(poke_name):  ----return a dictionary!!\n",
    "#      f'http{poke_name}'\n",
    "    \n",
    "#      return dic\n",
    "#     {\n",
    "#      'name':'pickachu'\n",
    "# }"
   ]
  },
  {
   "cell_type": "code",
   "execution_count": null,
   "id": "dab1dfac",
   "metadata": {},
   "outputs": [],
   "source": []
  },
  {
   "cell_type": "code",
   "execution_count": null,
   "id": "eb5c22a1",
   "metadata": {},
   "outputs": [],
   "source": []
  },
  {
   "cell_type": "code",
   "execution_count": null,
   "id": "273d7dc2",
   "metadata": {},
   "outputs": [],
   "source": []
  }
 ],
 "metadata": {
  "kernelspec": {
   "display_name": "Python 3 (ipykernel)",
   "language": "python",
   "name": "python3"
  },
  "language_info": {
   "codemirror_mode": {
    "name": "ipython",
    "version": 3
   },
   "file_extension": ".py",
   "mimetype": "text/x-python",
   "name": "python",
   "nbconvert_exporter": "python",
   "pygments_lexer": "ipython3",
   "version": "3.10.9"
  }
 },
 "nbformat": 4,
 "nbformat_minor": 5
}
